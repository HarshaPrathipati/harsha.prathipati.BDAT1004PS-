{
 "cells": [
  {
   "cell_type": "code",
   "execution_count": 1,
   "id": "eb6bbe8b",
   "metadata": {},
   "outputs": [],
   "source": [
    "#You can turn a word into pig-Latin using the following two rules (simplified):\n",
    "#• If the word starts with a consonant, move that letter to the end and append 'ay'. For example, 'happy' becomes 'appyhay' and 'pencil' becomes 'encilpay'.\n",
    "#• If the word starts with a vowel, simply append 'way' to the end of the word. For example, 'enter' becomes 'enterway' and 'other' becomes 'otherway' . For our purposes, there are 5 vowels: a, e, i, o, u (so we count y as a consonant).\n",
    "#Write a function pig() that takes a word (i.e., a string) as input and returns its pig- Latin form. Your function should still work if the input word contains upper case characters. Your output should always be lower case however.\n",
    "\n",
    "\n",
    "# list of vowels\n",
    "vowels = ['a','e','i','o','u']\n",
    "def pig(word):\n",
    "    \n",
    "    #checking if the word starts with vowel or not\n",
    "    if word[0].lower() in vowels:\n",
    "        print(word.lower() + 'way')\n",
    "    else:\n",
    "        first_letter = word[0]\n",
    "        print(word[1:].lower()+first_letter.lower()+'ay')"
   ]
  },
  {
   "cell_type": "code",
   "execution_count": 2,
   "id": "5fe530e1",
   "metadata": {},
   "outputs": [
    {
     "name": "stdout",
     "output_type": "stream",
     "text": [
      "appyhay\n"
     ]
    }
   ],
   "source": [
    "pig('happy')"
   ]
  },
  {
   "cell_type": "code",
   "execution_count": 3,
   "id": "ed75cc78",
   "metadata": {},
   "outputs": [
    {
     "name": "stdout",
     "output_type": "stream",
     "text": [
      "enterway\n"
     ]
    }
   ],
   "source": [
    "pig('Enter')"
   ]
  },
  {
   "cell_type": "code",
   "execution_count": null,
   "id": "924e84dd",
   "metadata": {},
   "outputs": [],
   "source": []
  }
 ],
 "metadata": {
  "kernelspec": {
   "display_name": "Python 3 (ipykernel)",
   "language": "python",
   "name": "python3"
  },
  "language_info": {
   "codemirror_mode": {
    "name": "ipython",
    "version": 3
   },
   "file_extension": ".py",
   "mimetype": "text/x-python",
   "name": "python",
   "nbconvert_exporter": "python",
   "pygments_lexer": "ipython3",
   "version": "3.9.12"
  }
 },
 "nbformat": 4,
 "nbformat_minor": 5
}
